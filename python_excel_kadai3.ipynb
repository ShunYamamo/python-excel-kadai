{
  "nbformat": 4,
  "nbformat_minor": 0,
  "metadata": {
    "colab": {
      "provenance": []
    },
    "kernelspec": {
      "name": "python3",
      "display_name": "Python 3"
    },
    "language_info": {
      "name": "python"
    }
  },
  "cells": [
    {
      "cell_type": "code",
      "source": [
        "import pandas as pd\n",
        "from openpyxl import load_workbook\n",
        "from openpyxl.styles import PatternFill\n",
        "\n",
        "# 処理対象のファイル名のリストを格納\n",
        "file_list = ['2022_年間売上表.xlsx', '2023_年間売上表.xlsx']\n",
        "\n",
        "# 結合後のデータを格納するための空のデータフレームを作成\n",
        "df = pd.DataFrame()\n",
        "\n",
        "# ファイルを一つずつ処理する\n",
        "for file_name in file_list:\n",
        "    # Excelファイルを読み込む\n",
        "    temp_df = pd.read_excel(file_name, header=None)\n",
        "\n",
        "    # データフレームの列名を指定\n",
        "    temp_df.columns = ['売上年', '商品', '金額（千円）']\n",
        "\n",
        "    # concat()でデータフレームを連結\n",
        "    df = pd.concat([df, temp_df], ignore_index=True)\n",
        "\n",
        "# 抽出結果のNo.0の行とNo.12の行を削除\n",
        "df = df.drop([0, 12])\n",
        "\n",
        "# 商品と売上年ごとにグループ化して金額を合計する\n",
        "grouped_df = df.groupby(['商品', '売上年']).sum().reset_index()\n",
        "\n",
        "# インデックスを表示させないようにExcelに書き出し保存\n",
        "grouped_df.to_excel('売上集計表.xlsx', index=False)\n",
        "\n",
        "# Excelファイルを開いてヘッダー部分のセルをグレーに設定\n",
        "workbook = load_workbook('売上集計表.xlsx')\n",
        "sheet = workbook.active\n",
        "\n",
        "# ヘッダー部分のセルをグレーに設定\n",
        "for cell in sheet[1]:\n",
        "    cell.fill = PatternFill(start_color=\"F2F2F2\", end_color=\"F2F2F2\", fill_type=\"solid\")\n",
        "\n",
        "# Excelファイルを保存\n",
        "workbook.save('売上集計表.xlsx')"
      ],
      "metadata": {
        "id": "e6jeJUC7xjLR"
      },
      "execution_count": 10,
      "outputs": []
    }
  ]
}